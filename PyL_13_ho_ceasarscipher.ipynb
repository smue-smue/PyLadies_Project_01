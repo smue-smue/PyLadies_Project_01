{
 "cells": [
  {
   "cell_type": "markdown",
   "metadata": {},
   "source": [
    "Code Quelle: https://stackoverflow.com/questions/53559450/python-caesar-cypher-script?rq=3"
   ]
  },
  {
   "cell_type": "markdown",
   "metadata": {},
   "source": [
    "The code starts with a prompt to enter a text. The entered text is stored in the variable 'original'."
   ]
  },
  {
   "cell_type": "code",
   "execution_count": null,
   "metadata": {},
   "outputs": [],
   "source": [
    "# Paste the text you want to encipher (or decipher)\n",
    "original = input(\"Original text: \")"
   ]
  },
  {
   "cell_type": "markdown",
   "metadata": {},
   "source": [
    "Next, you are prompted to enter an offset. This value determines by how many positions each letter in the alphabet is shifted. Positive values shift letters to the right, negative values to the left."
   ]
  },
  {
   "cell_type": "code",
   "execution_count": null,
   "metadata": {},
   "outputs": [],
   "source": [
    "# Declare (or guess) the offset. Positive or negative ints allowed\n",
    "offset = int(input(\"Offset: \"))"
   ]
  },
  {
   "cell_type": "markdown",
   "metadata": {},
   "source": [
    "The variable 'ciphered' is initialized to later hold the encrypted text."
   ]
  },
  {
   "cell_type": "code",
   "execution_count": null,
   "metadata": {},
   "outputs": [],
   "source": [
    "ciphered = ''"
   ]
  },
  {
   "cell_type": "markdown",
   "metadata": {},
   "source": [
    "The code goes through each letter 'c' of the original text. The following is done for each letter:\n",
    "\n",
    "* The ASCII value of the letter is stored in 'c_ascii'. \n",
    "    * The ASCII value of a letter is used to work with its numerical representation. In Caesar cipher, a letter is shifted by a specific number of positions in the alphabet. Since letters are stored as numbers in the computer (according to the ASCII standard), using the ASCII value allows for mathematical manipulation of these letters.\n",
    "\n",
    "* If 'c' is an uppercase letter, the letter is shifted in the alphabet considering the offset and the starting letter 'A'. If 'c' is a lowercase letter, a similar process is done, but starting with 'a'.\n",
    "* The function 'chr()' in Python converts an integer into the corresponding character.\n",
    "    * For example, 'chr(65)' converts the number 65 into the letter 'A', as 65 is the ASCII value of 'A'.\n",
    "* The function 'ord()' is the counterpart to 'chr()'. It takes a character (a letter) as an argument and returns the corresponding ASCII value.\n",
    "    * For example, 'ord('A')' returns the value 65, because 'A' represents the number 65 in ASCII code.\n",
    "* Example with \"E\": \n",
    "    * First, the ASCII value of 'E' is calculated: 'ord('E')', which gives 69.\n",
    "    * Then, the ASCII value of 'A' is subtracted to obtain the position of 'E' in the alphabet (69 - 65 = 4, as 'A' = 65 and 'E' is the 5th letter in the alphabet, but we start counting at 0).\n",
    "    * Now the offset is added: 4 + 12 = 16.\n",
    "    * Then, this value is taken modulo 26 to ensure it stays within the A-Z range: 16 % 26 = 16.\n",
    "    * Finally, the ASCII value of 'A' is added back to get the encrypted letter: 16 + 65 = 81.\n",
    "    * The value 81 is now converted into a letter with 'chr()', which results in 'Q'.\n",
    "* The % 26 operation ensures that the letter remains within the range of A-Z.\n",
    "    * The operator '%' is the modulo operator, which indicates the remainder of a division. \n",
    "    * By calculating (ord(c) - ord('A') + offset) % 26, it is ensured that the result is always a number between 0 and 25, regardless of how high the offset is. Since there are 26 letters in the English alphabet, this operation ensures that the result always corresponds to a letter in the A-Z range.\n",
    "    * Example: The letter Z is shifted by 5 positions, landing at 31. Now calculating 31 % 26, one gets 5; 26 fits 1 time into 31 - the remainder is 5.\n",
    "* If a character is neither an uppercase nor a lowercase letter, it is not changed and is directly added to the 'ciphered' string."
   ]
  },
  {
   "cell_type": "code",
   "execution_count": null,
   "metadata": {},
   "outputs": [],
   "source": [
    "for c in original:\n",
    "    c_ascii = ord(c)\n",
    "\n",
    "    if c.isupper():\n",
    "        c = chr((ord(c) - ord('A') + offset) % 26 + ord('A'))\n",
    "    elif c.islower():\n",
    "        c = chr((ord(c) - ord('a') + offset) % 26 + ord('a'))\n",
    "\n",
    "    ciphered += c"
   ]
  },
  {
   "cell_type": "markdown",
   "metadata": {},
   "source": [
    "The encrypted text in 'ciphered' is saved in a file named caesar.txt. This file is opened in write mode (or created if it does not exist) and the encrypted text is written into it."
   ]
  },
  {
   "cell_type": "code",
   "execution_count": null,
   "metadata": {},
   "outputs": [],
   "source": [
    "# makes a new file, caesar.txt, in the same folder as this python script\n",
    "with open(\"caesar.txt\", 'w') as f:\n",
    "    f.write(ciphered)"
   ]
  }
 ],
 "metadata": {
  "kernelspec": {
   "display_name": "Python 3",
   "language": "python",
   "name": "python3"
  },
  "language_info": {
   "name": "python",
   "version": "3.12.0"
  }
 },
 "nbformat": 4,
 "nbformat_minor": 2
}
